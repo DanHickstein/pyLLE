{
 "cells": [
  {
   "cell_type": "code",
   "execution_count": 3,
   "metadata": {},
   "outputs": [
    {
     "ename": "ModuleNotFoundError",
     "evalue": "No module named 'pyLLE'",
     "output_type": "error",
     "traceback": [
      "\u001b[0;31m---------------------------------------------------------------------------\u001b[0m",
      "\u001b[0;31mModuleNotFoundError\u001b[0m                       Traceback (most recent call last)",
      "\u001b[1;32m/Users/greg/Documents/pyLLE/example/TemporalDualPump.ipynb Cell 1\u001b[0m in \u001b[0;36m<cell line: 1>\u001b[0;34m()\u001b[0m\n\u001b[0;32m----> <a href='vscode-notebook-cell:/Users/greg/Documents/pyLLE/example/TemporalDualPump.ipynb#W1sZmlsZQ%3D%3D?line=0'>1</a>\u001b[0m \u001b[39mimport\u001b[39;00m \u001b[39mpyLLE\u001b[39;00m\n\u001b[1;32m      <a href='vscode-notebook-cell:/Users/greg/Documents/pyLLE/example/TemporalDualPump.ipynb#W1sZmlsZQ%3D%3D?line=1'>2</a>\u001b[0m \u001b[39mimport\u001b[39;00m \u001b[39mnumpy\u001b[39;00m \u001b[39mas\u001b[39;00m \u001b[39mnp\u001b[39;00m\n\u001b[1;32m      <a href='vscode-notebook-cell:/Users/greg/Documents/pyLLE/example/TemporalDualPump.ipynb#W1sZmlsZQ%3D%3D?line=2'>3</a>\u001b[0m \u001b[39mfrom\u001b[39;00m \u001b[39mscipy\u001b[39;00m \u001b[39mimport\u001b[39;00m constants \u001b[39mas\u001b[39;00m cts\n",
      "\u001b[0;31mModuleNotFoundError\u001b[0m: No module named 'pyLLE'"
     ]
    }
   ],
   "source": [
    "import pyLLE\n",
    "import numpy as np\n",
    "from scipy import constants as cts\n",
    "import pandas as pd\n",
    "import pickle as pkl\n",
    "import plotly.graph_objs as go\n",
    "import matplotlib.pyplot as plt\n",
    "import time\n",
    "pio.templates.default = \"plotly_white\""
   ]
  },
  {
   "cell_type": "markdown",
   "metadata": {},
   "source": [
    "Here we will define the parameters. 2 dictionaries are needed, the resonator and the simulations. Novelty of the version 4 is that the pump power and the pump frequency can be lists to simulate a multi pump system: "
   ]
  },
  {
   "cell_type": "code",
   "execution_count": 1,
   "metadata": {},
   "outputs": [
    {
     "ename": "NameError",
     "evalue": "name 'pio' is not defined",
     "output_type": "error",
     "traceback": [
      "\u001b[0;31m---------------------------------------------------------------------------\u001b[0m",
      "\u001b[0;31mNameError\u001b[0m                                 Traceback (most recent call last)",
      "\u001b[1;32m/Users/greg/Documents/pyLLE/example/TemporalDualPump.ipynb Cell 3\u001b[0m in \u001b[0;36m<cell line: 1>\u001b[0;34m()\u001b[0m\n\u001b[0;32m----> <a href='vscode-notebook-cell:/Users/greg/Documents/pyLLE/example/TemporalDualPump.ipynb#W2sZmlsZQ%3D%3D?line=0'>1</a>\u001b[0m pio\u001b[39m.\u001b[39mtemplates\u001b[39m.\u001b[39mdefault \u001b[39m=\u001b[39m \u001b[39m\"\u001b[39m\u001b[39mplotly_white\u001b[39m\u001b[39m\"\u001b[39m\n\u001b[1;32m      <a href='vscode-notebook-cell:/Users/greg/Documents/pyLLE/example/TemporalDualPump.ipynb#W2sZmlsZQ%3D%3D?line=1'>2</a>\u001b[0m res \u001b[39m=\u001b[39m {\u001b[39m'\u001b[39m\u001b[39mR\u001b[39m\u001b[39m'\u001b[39m: \u001b[39m23e-6\u001b[39m, \u001b[39m'\u001b[39m\u001b[39mQi\u001b[39m\u001b[39m'\u001b[39m: \u001b[39m1e6\u001b[39m, \u001b[39m'\u001b[39m\u001b[39mQc\u001b[39m\u001b[39m'\u001b[39m: \u001b[39m1e6\u001b[39m, \u001b[39m'\u001b[39m\u001b[39mγ\u001b[39m\u001b[39m'\u001b[39m: \u001b[39m3.2\u001b[39m, \n\u001b[1;32m      <a href='vscode-notebook-cell:/Users/greg/Documents/pyLLE/example/TemporalDualPump.ipynb#W2sZmlsZQ%3D%3D?line=2'>3</a>\u001b[0m        \u001b[39m'\u001b[39m\u001b[39mdispfile\u001b[39m\u001b[39m'\u001b[39m: \u001b[39m'\u001b[39m\u001b[39m./RW1000_H430.csv\u001b[39m\u001b[39m'\u001b[39m}\n\u001b[1;32m      <a href='vscode-notebook-cell:/Users/greg/Documents/pyLLE/example/TemporalDualPump.ipynb#W2sZmlsZQ%3D%3D?line=4'>5</a>\u001b[0m Nshift \u001b[39m=\u001b[39m \u001b[39m0\u001b[39m\n",
      "\u001b[0;31mNameError\u001b[0m: name 'pio' is not defined"
     ]
    }
   ],
   "source": [
    "\n",
    "pio.templates.default = \"plotly_white\"\n",
    "res = {'R': 23e-6, 'Qi': 1e6, 'Qc': 1e6, 'γ': 3.2, \n",
    "       'dispfile': './RW1000_H430.csv'}\n",
    "\n",
    "Nshift = 0\n",
    "sim = {'Pin': [180e-3, 8e-3],\n",
    "       'f_pmp': [283e12, 236e12],\n",
    "       'φ_pmp': [0, 0],\n",
    "       'δω': [None, 0.12e9*np.pi*2],\n",
    "       'Tscan': 0.5e6,'μ_sim': [-220,220], \n",
    "       'δω_init': 1e9*2*np.pi, 'δω_end': -3.5e9*2*np.pi,\n",
    "        }"
   ]
  },
  {
   "cell_type": "code",
   "execution_count": null,
   "metadata": {},
   "outputs": [],
   "source": [
    "solver = pyLLE.LLEsolver(sim=sim, res=res,debug=False)\n",
    "fig = solver.Analyze(plot=True,display_center=False)\n",
    "fig.update_yaxes(range = [-200, 200], title = 'D<sub>int</sub> (GHz)')\n",
    "fig.show()\n",
    "\n",
    "\n",
    "# go.Figure(data = go.Scatter(y = solver.sol.Pcomb)).show()"
   ]
  },
  {
   "cell_type": "code",
   "execution_count": null,
   "metadata": {},
   "outputs": [],
   "source": [
    "\n",
    "solver.Setup(verbose = False)\n",
    "solver.SolveTemporal()\n",
    "solver.RetrieveData()"
   ]
  }
 ],
 "metadata": {
  "kernelspec": {
   "display_name": "Python 3.9.13 ('base')",
   "language": "python",
   "name": "python3"
  },
  "language_info": {
   "codemirror_mode": {
    "name": "ipython",
    "version": 3
   },
   "file_extension": ".py",
   "mimetype": "text/x-python",
   "name": "python",
   "nbconvert_exporter": "python",
   "pygments_lexer": "ipython3",
   "version": "3.9.10"
  },
  "orig_nbformat": 4,
  "vscode": {
   "interpreter": {
    "hash": "6f70c008d6eb1657795149c7f89dcf262b772ce343bd80b8e0db58e02eba53e6"
   }
  }
 },
 "nbformat": 4,
 "nbformat_minor": 2
}
